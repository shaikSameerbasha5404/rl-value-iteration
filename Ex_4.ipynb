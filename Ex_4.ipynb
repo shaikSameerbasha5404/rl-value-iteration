{
  "nbformat": 4,
  "nbformat_minor": 0,
  "metadata": {
    "colab": {
      "provenance": []
    },
    "kernelspec": {
      "name": "python3",
      "display_name": "Python 3"
    },
    "language_info": {
      "name": "python"
    }
  },
  "cells": [
    {
      "cell_type": "code",
      "execution_count": 13,
      "metadata": {
        "id": "Y-4drTVQmcyw"
      },
      "outputs": [],
      "source": [
        "import warnings ; warnings.filterwarnings('ignore')\n",
        "\n",
        "import gym, gym_walk\n",
        "import numpy as np\n",
        "\n",
        "import random\n",
        "import warnings\n",
        "\n",
        "warnings.filterwarnings('ignore', category=DeprecationWarning)\n",
        "np.set_printoptions(suppress=True)\n",
        "random.seed(123); np.random.seed(123)\n"
      ]
    },
    {
      "cell_type": "code",
      "source": [
        "pip install git+https://github.com/mimoralea/gym-walk#egg=gym-walk"
      ],
      "metadata": {
        "colab": {
          "base_uri": "https://localhost:8080/"
        },
        "id": "pEk6BWlBoiQD",
        "outputId": "0c21b4e7-a1a3-4f33-a7bf-da0383a7297c"
      },
      "execution_count": 14,
      "outputs": [
        {
          "output_type": "stream",
          "name": "stdout",
          "text": [
            "Collecting gym-walk\n",
            "  Cloning https://github.com/mimoralea/gym-walk to /tmp/pip-install-l9l9uy4z/gym-walk_85adcc54db16458eb3f85c068281858f\n",
            "  Running command git clone --filter=blob:none --quiet https://github.com/mimoralea/gym-walk /tmp/pip-install-l9l9uy4z/gym-walk_85adcc54db16458eb3f85c068281858f\n",
            "  Resolved https://github.com/mimoralea/gym-walk to commit 5999016267d6de2f5a63307fb00dfd63de319ac1\n",
            "  Preparing metadata (setup.py) ... \u001b[?25l\u001b[?25hdone\n",
            "Requirement already satisfied: gym in /usr/local/lib/python3.10/dist-packages (from gym-walk) (0.25.2)\n",
            "Requirement already satisfied: numpy>=1.18.0 in /usr/local/lib/python3.10/dist-packages (from gym->gym-walk) (1.26.4)\n",
            "Requirement already satisfied: cloudpickle>=1.2.0 in /usr/local/lib/python3.10/dist-packages (from gym->gym-walk) (2.2.1)\n",
            "Requirement already satisfied: gym-notices>=0.0.4 in /usr/local/lib/python3.10/dist-packages (from gym->gym-walk) (0.0.8)\n"
          ]
        }
      ]
    },
    {
      "cell_type": "code",
      "source": [
        "def print_policy(pi, P, action_symbols=('<', 'v', '>', '^'), n_cols=4, title='Policy:'):\n",
        "    print(title)\n",
        "    arrs = {k:v for k,v in enumerate(action_symbols)}\n",
        "    for s in range(len(P)):\n",
        "        a = pi(s)\n",
        "        print(\"| \", end=\"\")\n",
        "        if np.all([done for action in P[s].values() for _, _, _, done in action]):\n",
        "            print(\"\".rjust(9), end=\" \")\n",
        "        else:\n",
        "            print(str(s).zfill(2), arrs[a].rjust(6), end=\" \")\n",
        "        if (s + 1) % n_cols == 0: print(\"|\")"
      ],
      "metadata": {
        "id": "K-1oGoFIomYI"
      },
      "execution_count": 15,
      "outputs": []
    },
    {
      "cell_type": "code",
      "source": [
        "def print_state_value_function(V, P, n_cols=4, prec=3, title='State-value function:'):\n",
        "    print(title)\n",
        "    for s in range(len(P)):\n",
        "        v = V[s]\n",
        "        print(\"| \", end=\"\")\n",
        "        if np.all([done for action in P[s].values() for _, _, _, done in action]):\n",
        "            print(\"\".rjust(9), end=\" \")\n",
        "        else:\n",
        "            print(str(s).zfill(2), '{}'.format(np.round(v, prec)).rjust(6), end=\" \")\n",
        "        if (s + 1) % n_cols == 0: print(\"|\")"
      ],
      "metadata": {
        "id": "nsKENxRxoqKJ"
      },
      "execution_count": 16,
      "outputs": []
    },
    {
      "cell_type": "code",
      "source": [
        "def probability_success(env, pi, goal_state, n_episodes=100, max_steps=200):\n",
        "    random.seed(123); np.random.seed(123) ; env.seed(123)\n",
        "    results = []\n",
        "    for _ in range(n_episodes):\n",
        "        state, done, steps = env.reset(), False, 0\n",
        "        while not done and steps < max_steps:\n",
        "            state, _, done, h = env.step(pi(state))\n",
        "            steps += 1\n",
        "        results.append(state == goal_state)\n",
        "    return np.sum(results)/len(results)"
      ],
      "metadata": {
        "id": "9A_HaoGlowEK"
      },
      "execution_count": 17,
      "outputs": []
    },
    {
      "cell_type": "code",
      "source": [
        "def mean_return(env, pi, n_episodes=100, max_steps=200):\n",
        "    random.seed(123); np.random.seed(123) ; env.seed(123)\n",
        "    results = []\n",
        "    for _ in range(n_episodes):\n",
        "        state, done, steps = env.reset(), False, 0\n",
        "        results.append(0.0)\n",
        "        while not done and steps < max_steps:\n",
        "            state, reward, done, _ = env.step(pi(state))\n",
        "            results[-1] += reward\n",
        "            steps += 1\n",
        "    return np.mean(results)"
      ],
      "metadata": {
        "id": "jF4XJVt0oxcD"
      },
      "execution_count": 18,
      "outputs": []
    },
    {
      "cell_type": "code",
      "source": [
        "envdesc  = ['FFHF','HFFF','GFFH','FHFH']\n",
        "env = gym.make('FrozenLake-v1',desc=envdesc)\n",
        "init_state = env.reset()\n",
        "goal_state = 8\n",
        "P = env.env.P"
      ],
      "metadata": {
        "id": "u4R82bFao2FN"
      },
      "execution_count": 19,
      "outputs": []
    },
    {
      "cell_type": "code",
      "source": [
        "P"
      ],
      "metadata": {
        "colab": {
          "base_uri": "https://localhost:8080/"
        },
        "id": "AiKqjB8Io63K",
        "outputId": "8c59be6d-62aa-49fa-a02d-20a557385dfa"
      },
      "execution_count": 20,
      "outputs": [
        {
          "output_type": "execute_result",
          "data": {
            "text/plain": [
              "{0: {0: [(0.3333333333333333, 0, 0.0, False),\n",
              "   (0.3333333333333333, 0, 0.0, False),\n",
              "   (0.3333333333333333, 4, 0.0, True)],\n",
              "  1: [(0.3333333333333333, 0, 0.0, False),\n",
              "   (0.3333333333333333, 4, 0.0, True),\n",
              "   (0.3333333333333333, 1, 0.0, False)],\n",
              "  2: [(0.3333333333333333, 4, 0.0, True),\n",
              "   (0.3333333333333333, 1, 0.0, False),\n",
              "   (0.3333333333333333, 0, 0.0, False)],\n",
              "  3: [(0.3333333333333333, 1, 0.0, False),\n",
              "   (0.3333333333333333, 0, 0.0, False),\n",
              "   (0.3333333333333333, 0, 0.0, False)]},\n",
              " 1: {0: [(0.3333333333333333, 1, 0.0, False),\n",
              "   (0.3333333333333333, 0, 0.0, False),\n",
              "   (0.3333333333333333, 5, 0.0, False)],\n",
              "  1: [(0.3333333333333333, 0, 0.0, False),\n",
              "   (0.3333333333333333, 5, 0.0, False),\n",
              "   (0.3333333333333333, 2, 0.0, True)],\n",
              "  2: [(0.3333333333333333, 5, 0.0, False),\n",
              "   (0.3333333333333333, 2, 0.0, True),\n",
              "   (0.3333333333333333, 1, 0.0, False)],\n",
              "  3: [(0.3333333333333333, 2, 0.0, True),\n",
              "   (0.3333333333333333, 1, 0.0, False),\n",
              "   (0.3333333333333333, 0, 0.0, False)]},\n",
              " 2: {0: [(1.0, 2, 0, True)],\n",
              "  1: [(1.0, 2, 0, True)],\n",
              "  2: [(1.0, 2, 0, True)],\n",
              "  3: [(1.0, 2, 0, True)]},\n",
              " 3: {0: [(0.3333333333333333, 3, 0.0, False),\n",
              "   (0.3333333333333333, 2, 0.0, True),\n",
              "   (0.3333333333333333, 7, 0.0, False)],\n",
              "  1: [(0.3333333333333333, 2, 0.0, True),\n",
              "   (0.3333333333333333, 7, 0.0, False),\n",
              "   (0.3333333333333333, 3, 0.0, False)],\n",
              "  2: [(0.3333333333333333, 7, 0.0, False),\n",
              "   (0.3333333333333333, 3, 0.0, False),\n",
              "   (0.3333333333333333, 3, 0.0, False)],\n",
              "  3: [(0.3333333333333333, 3, 0.0, False),\n",
              "   (0.3333333333333333, 3, 0.0, False),\n",
              "   (0.3333333333333333, 2, 0.0, True)]},\n",
              " 4: {0: [(1.0, 4, 0, True)],\n",
              "  1: [(1.0, 4, 0, True)],\n",
              "  2: [(1.0, 4, 0, True)],\n",
              "  3: [(1.0, 4, 0, True)]},\n",
              " 5: {0: [(0.3333333333333333, 1, 0.0, False),\n",
              "   (0.3333333333333333, 4, 0.0, True),\n",
              "   (0.3333333333333333, 9, 0.0, False)],\n",
              "  1: [(0.3333333333333333, 4, 0.0, True),\n",
              "   (0.3333333333333333, 9, 0.0, False),\n",
              "   (0.3333333333333333, 6, 0.0, False)],\n",
              "  2: [(0.3333333333333333, 9, 0.0, False),\n",
              "   (0.3333333333333333, 6, 0.0, False),\n",
              "   (0.3333333333333333, 1, 0.0, False)],\n",
              "  3: [(0.3333333333333333, 6, 0.0, False),\n",
              "   (0.3333333333333333, 1, 0.0, False),\n",
              "   (0.3333333333333333, 4, 0.0, True)]},\n",
              " 6: {0: [(0.3333333333333333, 2, 0.0, True),\n",
              "   (0.3333333333333333, 5, 0.0, False),\n",
              "   (0.3333333333333333, 10, 0.0, False)],\n",
              "  1: [(0.3333333333333333, 5, 0.0, False),\n",
              "   (0.3333333333333333, 10, 0.0, False),\n",
              "   (0.3333333333333333, 7, 0.0, False)],\n",
              "  2: [(0.3333333333333333, 10, 0.0, False),\n",
              "   (0.3333333333333333, 7, 0.0, False),\n",
              "   (0.3333333333333333, 2, 0.0, True)],\n",
              "  3: [(0.3333333333333333, 7, 0.0, False),\n",
              "   (0.3333333333333333, 2, 0.0, True),\n",
              "   (0.3333333333333333, 5, 0.0, False)]},\n",
              " 7: {0: [(0.3333333333333333, 3, 0.0, False),\n",
              "   (0.3333333333333333, 6, 0.0, False),\n",
              "   (0.3333333333333333, 11, 0.0, True)],\n",
              "  1: [(0.3333333333333333, 6, 0.0, False),\n",
              "   (0.3333333333333333, 11, 0.0, True),\n",
              "   (0.3333333333333333, 7, 0.0, False)],\n",
              "  2: [(0.3333333333333333, 11, 0.0, True),\n",
              "   (0.3333333333333333, 7, 0.0, False),\n",
              "   (0.3333333333333333, 3, 0.0, False)],\n",
              "  3: [(0.3333333333333333, 7, 0.0, False),\n",
              "   (0.3333333333333333, 3, 0.0, False),\n",
              "   (0.3333333333333333, 6, 0.0, False)]},\n",
              " 8: {0: [(1.0, 8, 0, True)],\n",
              "  1: [(1.0, 8, 0, True)],\n",
              "  2: [(1.0, 8, 0, True)],\n",
              "  3: [(1.0, 8, 0, True)]},\n",
              " 9: {0: [(0.3333333333333333, 5, 0.0, False),\n",
              "   (0.3333333333333333, 8, 1.0, True),\n",
              "   (0.3333333333333333, 13, 0.0, True)],\n",
              "  1: [(0.3333333333333333, 8, 1.0, True),\n",
              "   (0.3333333333333333, 13, 0.0, True),\n",
              "   (0.3333333333333333, 10, 0.0, False)],\n",
              "  2: [(0.3333333333333333, 13, 0.0, True),\n",
              "   (0.3333333333333333, 10, 0.0, False),\n",
              "   (0.3333333333333333, 5, 0.0, False)],\n",
              "  3: [(0.3333333333333333, 10, 0.0, False),\n",
              "   (0.3333333333333333, 5, 0.0, False),\n",
              "   (0.3333333333333333, 8, 1.0, True)]},\n",
              " 10: {0: [(0.3333333333333333, 6, 0.0, False),\n",
              "   (0.3333333333333333, 9, 0.0, False),\n",
              "   (0.3333333333333333, 14, 0.0, False)],\n",
              "  1: [(0.3333333333333333, 9, 0.0, False),\n",
              "   (0.3333333333333333, 14, 0.0, False),\n",
              "   (0.3333333333333333, 11, 0.0, True)],\n",
              "  2: [(0.3333333333333333, 14, 0.0, False),\n",
              "   (0.3333333333333333, 11, 0.0, True),\n",
              "   (0.3333333333333333, 6, 0.0, False)],\n",
              "  3: [(0.3333333333333333, 11, 0.0, True),\n",
              "   (0.3333333333333333, 6, 0.0, False),\n",
              "   (0.3333333333333333, 9, 0.0, False)]},\n",
              " 11: {0: [(1.0, 11, 0, True)],\n",
              "  1: [(1.0, 11, 0, True)],\n",
              "  2: [(1.0, 11, 0, True)],\n",
              "  3: [(1.0, 11, 0, True)]},\n",
              " 12: {0: [(0.3333333333333333, 8, 1.0, True),\n",
              "   (0.3333333333333333, 12, 0.0, False),\n",
              "   (0.3333333333333333, 12, 0.0, False)],\n",
              "  1: [(0.3333333333333333, 12, 0.0, False),\n",
              "   (0.3333333333333333, 12, 0.0, False),\n",
              "   (0.3333333333333333, 13, 0.0, True)],\n",
              "  2: [(0.3333333333333333, 12, 0.0, False),\n",
              "   (0.3333333333333333, 13, 0.0, True),\n",
              "   (0.3333333333333333, 8, 1.0, True)],\n",
              "  3: [(0.3333333333333333, 13, 0.0, True),\n",
              "   (0.3333333333333333, 8, 1.0, True),\n",
              "   (0.3333333333333333, 12, 0.0, False)]},\n",
              " 13: {0: [(1.0, 13, 0, True)],\n",
              "  1: [(1.0, 13, 0, True)],\n",
              "  2: [(1.0, 13, 0, True)],\n",
              "  3: [(1.0, 13, 0, True)]},\n",
              " 14: {0: [(0.3333333333333333, 10, 0.0, False),\n",
              "   (0.3333333333333333, 13, 0.0, True),\n",
              "   (0.3333333333333333, 14, 0.0, False)],\n",
              "  1: [(0.3333333333333333, 13, 0.0, True),\n",
              "   (0.3333333333333333, 14, 0.0, False),\n",
              "   (0.3333333333333333, 15, 0.0, True)],\n",
              "  2: [(0.3333333333333333, 14, 0.0, False),\n",
              "   (0.3333333333333333, 15, 0.0, True),\n",
              "   (0.3333333333333333, 10, 0.0, False)],\n",
              "  3: [(0.3333333333333333, 15, 0.0, True),\n",
              "   (0.3333333333333333, 10, 0.0, False),\n",
              "   (0.3333333333333333, 13, 0.0, True)]},\n",
              " 15: {0: [(1.0, 15, 0, True)],\n",
              "  1: [(1.0, 15, 0, True)],\n",
              "  2: [(1.0, 15, 0, True)],\n",
              "  3: [(1.0, 15, 0, True)]}}"
            ]
          },
          "metadata": {},
          "execution_count": 20
        }
      ]
    },
    {
      "cell_type": "code",
      "source": [
        "def value_iteration(P, gamma=1.0, theta=1e-10):\n",
        "    V = np.zeros(len(P), dtype=np.float64)\n",
        "    while True:\n",
        "      Q = np.zeros((len(P),len(P[0])),dtype=np.float64)\n",
        "      for s in range(len(P)):\n",
        "        for a in range(len(P[s])):\n",
        "          for prob,next_state,reward,done in P[s][a]:\n",
        "            Q[s][a] += prob*(reward + gamma * V[next_state] * (not done))\n",
        "      if np.max(np.abs(V - np.max(Q, axis=1))) < theta:\n",
        "        break\n",
        "      V = np.max(Q, axis=1)\n",
        "      pi = lambda s: {s:a for s, a in enumerate(np.argmax(Q, axis=1))}[s]\n",
        "    return V, pi"
      ],
      "metadata": {
        "id": "8fwnAmLXo7tV"
      },
      "execution_count": 23,
      "outputs": []
    },
    {
      "cell_type": "code",
      "source": [
        "V_best_v, pi_best_v = value_iteration(P, gamma=0.99)"
      ],
      "metadata": {
        "id": "yc0VPH_bpGkB"
      },
      "execution_count": 24,
      "outputs": []
    },
    {
      "cell_type": "code",
      "source": [
        "print(\"Name:  Shaik Sameer Basha                Register Number:   212222240093    \")\n",
        "print('Optimal policy and state-value function (VI):')\n",
        "print_policy(pi_best_v, P)"
      ],
      "metadata": {
        "colab": {
          "base_uri": "https://localhost:8080/"
        },
        "id": "EZhTBM8CpNh3",
        "outputId": "b917dfa4-aae3-423b-bf54-7505ef4bc726"
      },
      "execution_count": 25,
      "outputs": [
        {
          "output_type": "stream",
          "name": "stdout",
          "text": [
            "Name:  Shaik Sameer Basha                Register Number:   212222240093    \n",
            "Optimal policy and state-value function (VI):\n",
            "Policy:\n",
            "| 00      ^ | 01      < |           | 03      > |\n",
            "|           | 05      > | 06      v | 07      ^ |\n",
            "|           | 09      ^ | 10      < |           |\n",
            "| 12      < |           | 14      < |           |\n"
          ]
        }
      ]
    },
    {
      "cell_type": "code",
      "source": [
        "print('Reaches goal {:.2f}%. Obtains an average undiscounted return of {:.4f}.'.format(\n",
        "    probability_success(env, pi_best_v, goal_state=goal_state)*100,\n",
        "    mean_return(env, pi_best_v)))"
      ],
      "metadata": {
        "colab": {
          "base_uri": "https://localhost:8080/"
        },
        "id": "7drLUSyBpT8O",
        "outputId": "31c94801-be50-4e92-87a8-29664da0b6bd"
      },
      "execution_count": 26,
      "outputs": [
        {
          "output_type": "stream",
          "name": "stdout",
          "text": [
            "Reaches goal 66.00%. Obtains an average undiscounted return of 0.6600.\n"
          ]
        }
      ]
    },
    {
      "cell_type": "code",
      "source": [
        "print_state_value_function(V_best_v, P, prec=4)"
      ],
      "metadata": {
        "colab": {
          "base_uri": "https://localhost:8080/"
        },
        "id": "c3Di9b_jpUsj",
        "outputId": "20d77e55-65db-4f00-a926-716d884ba4b0"
      },
      "execution_count": 27,
      "outputs": [
        {
          "output_type": "stream",
          "name": "stdout",
          "text": [
            "State-value function:\n",
            "| 00 0.4988 | 01 0.5139 |           | 03 0.4356 |\n",
            "|           | 05 0.5446 | 06 0.4756 | 07 0.4488 |\n",
            "|           | 09 0.6608 | 10 0.4478 |           |\n",
            "| 12 0.9804 |           | 14 0.2206 |           |\n"
          ]
        }
      ]
    }
  ]
}